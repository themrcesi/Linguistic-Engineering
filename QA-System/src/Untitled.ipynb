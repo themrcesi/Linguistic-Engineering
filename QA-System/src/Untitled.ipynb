{
 "cells": [
  {
   "cell_type": "code",
   "execution_count": 45,
   "metadata": {
    "ExecuteTime": {
     "end_time": "2020-12-30T22:50:04.729036Z",
     "start_time": "2020-12-30T22:50:04.727035Z"
    }
   },
   "outputs": [],
   "source": [
    "import numpy as np\n",
    "import re"
   ]
  },
  {
   "cell_type": "code",
   "execution_count": 2,
   "metadata": {
    "ExecuteTime": {
     "end_time": "2020-12-30T22:39:05.909802Z",
     "start_time": "2020-12-30T22:39:05.896802Z"
    }
   },
   "outputs": [
    {
     "data": {
      "text/plain": [
       "['TÍTULO ORIGINAL',\n",
       " 'The Godfather',\n",
       " '',\n",
       " 'AÑO',\n",
       " '1972',\n",
       " '',\n",
       " 'DURACIÓN',\n",
       " '175 min.',\n",
       " '',\n",
       " 'PAÍS',\n",
       " 'Estados Unidos',\n",
       " '',\n",
       " 'DIRECCIÓN',\n",
       " 'Francis Ford Coppola',\n",
       " '',\n",
       " 'GUIÓN',\n",
       " 'Francis Ford Coppola, Mario Puzo (Novela: Mario Puzo)',\n",
       " '',\n",
       " 'MÚSICA',\n",
       " 'Nino Rota',\n",
       " '',\n",
       " 'FOTOGRAFÍA',\n",
       " 'Gordon Willis',\n",
       " '',\n",
       " 'REPARTO',\n",
       " 'Marlon Brando, Al Pacino, James Caan, Robert Duvall, Diane Keaton, John Cazale, Talia Shire, Richard S. Castellano, Sterling Hayden, Gianni Russo, Rudy Bond, John Marley, Richard Conte, Al Lettieri, Abe Vigoda, Franco Citti, Lenny Montana, Al Martino, Joe Spinell, Simonetta Stefanelli, Morgana King, Alex Rocco, John Martino, Salvatore Corsitto, Richard Bright, Tony Giorgio, Vito Scotti, Jeannie Linero, Julie Gregg, Angelo Infanti, Corrado Gaipa, Saro Urzi',\n",
       " '',\n",
       " 'PRODUCTORA',\n",
       " 'Paramount Pictures, Alfran Productions',\n",
       " '',\n",
       " 'GÉNERO',\n",
       " 'Drama. Mafia. Crimen. Años 40. Años 50. Familia. Película de culto',\n",
       " '',\n",
       " 'GRUPOS',\n",
       " 'Trilogía El Padrino | Adaptaciones de Mario Puzo',\n",
       " '',\n",
       " 'SINOPSIS',\n",
       " \"América, años 40. Don Vito Corleone (Marlon Brando) es el respetado y temido jefe de una de las cinco familias de la mafia de Nueva York. Tiene cuatro hijos: Connie (Talia Shire), el impulsivo Sonny (James Caan), el pusilánime Fredo (John Cazale) y Michael (Al Pacino), que no quiere saber nada de los negocios de su padre. Cuando Corleone, en contra de los consejos de 'Il consigliere' Tom Hagen (Robert Duvall), se niega a participar en el negocio de las drogas, el jefe de otra banda ordena su asesinato. Empieza entonces una violenta y cruenta guerra entre las familias mafiosas. (FILMAFFINITY)\",\n",
       " '',\n",
       " 'PUNTUACIÓN',\n",
       " '9,0',\n",
       " '',\n",
       " 'VOTOS',\n",
       " '170.129',\n",
       " '',\n",
       " 'VOTOS',\n",
       " '',\n",
       " 'PREMIOS',\n",
       " '- 1972: 3 Oscars: Mejor película, Actor (Marlon Brando), Guión adaptado. 11[10*] nom.',\n",
       " '- 1972: 5 Globos de Oro: Película (Drama), Director, Actor (Brando), Guión y BSO',\n",
       " '- 1972: Premios BAFTA: Mejor música. 5 nominaciones, incluyendo Mejor actor (Brando)',\n",
       " '- 1972: Círculo de Críticos de Nueva York: Mejor actor secundario (Duvall). 4 nominaciones',\n",
       " '- 1972: National Board of Review: Mejor actor sec. (Pacino) y Mejores 10 films del año',\n",
       " '- 1972: Sindicato de Directores (DGA): Mejor director',\n",
       " '- 1972: Sindicato de Guionistas (WGA): Mejor guión adaptado drama',\n",
       " '- 1972: Premios David di Donatello: Mejor film extranjero y Premio Especial (Al Pacino)',\n",
       " '',\n",
       " 'CRÍTICAS',\n",
       " '- \"\\'El padrino\\' son palabras mayores. Las dos primeras partes están entre las 10 mejores películas de la historia del cine.\" Carlos Boyero: Diario El Mundo',\n",
       " '- \"Coppola inventa una nueva mirada para el cine y amplía los horizontes de una industria que pedía a gritos savia nueva.\" Luis Martínez: Diario El País',\n",
       " '- \"\"I believe in America...\" Así comienza este fascinante compendio de cine de Coppola. La compleja historia de una familia mafiosa liderada por un implacable padre de familia y hombre de honor (inmenso Marlon Brando) y cuyo poder hereda su hijo más pacífico (asombroso un primerizo Al Pacino de mirada gélida) es, ante todo, un ejercicio narrativo apabullante, de insuperable nivel. La brillante disección de todos los personajes, el ritmo magistral -que alterna largas secuencias familiares con creíbles escenas de acción- y una ambientación perfecta consiguen un film que entró \"violentamente\" entre los mejores clásicos de todos los tiempos, para alzarse con el título de obra cumbre del cine moderno.\" Pablo Kurt: FilmAffinity',\n",
       " '- \"Inicialmente la Academia anunció, en febrero de 1973, que \\'The Godfather\\' tenía 11 nominaciones, más que cualquier otra película de ese año. Pero la cifra se redujo finalmente a 10 nominaciones (empatando con \\'Cabaret\\' como la película con más nominaciones del año) tras una nueva votación por parte de los responsables de la Academia de nominar a mejor música, con motivo de una controversia sobre si la banda sonora de Nino Rota de \\'The Godfather\\' era elegible para la nominación que recibió. Así que la nominación fue retirada y reemplazada por una nominación para \"Sleuth\".\" FilmAffinity',\n",
       " '- \"La secuencia de la boda es un momento cinematográfico virtuoso: Coppola lleva a su gran reparto con tanta destreza que nos hace entrar completamente en el mundo de \\'El Padrino\\' (...) Puntuación: 4 (sobre 4)\" Roger Ebert: rogerebert.com',\n",
       " '- \"Brando hizo de Don Vito algo que rara vez vemos en las películas: un villano-héroe tragicómico.\" Michael Wilmington: Chicago Tribune',\n",
       " '- \"Una de las crónicas más brutales y conmovedoras de la vida americana que se haya diseñado nunca dentro de los límites del entretenimiento popular.\" Vincent Canby: The New York Times',\n",
       " '- \"Tiene una excelente producción, a ratos es emocionante, y un reparto bien escogido. Pero es también demasiado larga (...) y ocasionalmente confusa. Aunque nunca llega a ser aburrida, no fascina tanto como para ser un drama superior.\" A.D. Murphy: Variety',\n",
       " '- \"Una gran película americana, llena de imágenes increíbles y momentos perdurables.\" Desson Thomson: The Washington Post',\n",
       " '- \"Una obra de arte que perdura el paso de los años. Puntuación: ★★★★★ (sobre 5)\" César Albarrán Torres: Cine Premiere']"
      ]
     },
     "execution_count": 2,
     "metadata": {},
     "output_type": "execute_result"
    }
   ],
   "source": [
    "padrino = [line.strip() for line in open(\"../documents/padrino.txt\", encoding = \"utf-8\").readlines()]\n",
    "padrino"
   ]
  },
  {
   "cell_type": "code",
   "execution_count": 154,
   "metadata": {
    "ExecuteTime": {
     "end_time": "2020-12-30T23:38:17.230641Z",
     "start_time": "2020-12-30T23:38:17.216127Z"
    }
   },
   "outputs": [],
   "source": [
    "class Data():\n",
    "\n",
    "    def __init__(self, name):\n",
    "        self.key = name\n",
    "\n",
    "    def get_key(self):\n",
    "        return self.key\n",
    "\n",
    "    def _set_value(self, value):\n",
    "        self.value = value\n",
    "\n",
    "    def get_dic(self):\n",
    "        return {self.key.lower(): self.value}\n",
    "\n",
    "    def get_value(self, document):\n",
    "        index_key = document.index(self.key)\n",
    "        self._set_value(document[index_key + 1])\n",
    "        return self\n",
    "\n",
    "\n",
    "class ValoracionData(Data):\n",
    "\n",
    "    def get_dic(self):\n",
    "        return {\"valoracion\": {self.key[0].lower(): self.value[0], self.key[1].lower(): self.value[1]}}\n",
    "\n",
    "    def get_value(self, document):\n",
    "        index_key_puntuacion = document.index(self.key[0])\n",
    "        index_key_votos = document.index(self.key[1])\n",
    "        self._set_value(\n",
    "            (document[index_key_puntuacion + 1], document[index_key_votos + 1]))\n",
    "        return self\n",
    "\n",
    "\n",
    "class PremiosData(Data):\n",
    "\n",
    "    def get_dic(self):\n",
    "        return {self.key[0].lower(): self.value}\n",
    "\n",
    "    def get_value(self, document):\n",
    "        index_key = document.index(self.key[0])\n",
    "        next_index_key = document.index(self.key[1])\n",
    "        values = document[index_key + 1:next_index_key-1]\n",
    "        values = [self._preprocess_premio(value) for value in values]\n",
    "        self._set_value(values)\n",
    "        return self\n",
    "\n",
    "    def _preprocess_premio(self, premio):\n",
    "        values = premio.split(\":\")\n",
    "        año = values[0].split(\" \")[1]\n",
    "        institucion = values[1].strip()\n",
    "        categorias = values[2]\n",
    "        return {\"año\": año, \"institucion\": institucion, \"categorias\": categorias}\n",
    "\n",
    "\n",
    "class CriticasData(Data):\n",
    "\n",
    "    def get_value(self, document):\n",
    "        index_key = document.index(self.key)\n",
    "        values = document[index_key + 1:]\n",
    "        values = [self._preprocess_critica(value) for value in values]\n",
    "        self._set_value(values)\n",
    "        return self\n",
    "\n",
    "    def _preprocess_critica(self, critica):\n",
    "        match = re.search(\"(\\\".+\\\") (.+)\", critica)\n",
    "        critica = match.group(1).replace(\"\\\"\", \"\")\n",
    "        autor = match.group(2)\n",
    "        return {\"critica\": critica, \"autor\": autor}\n",
    "\n",
    "\n",
    "class PreprocessorDocument():\n",
    "\n",
    "    HEADING_TITULO = \"TÍTULO ORIGINAL\"\n",
    "    HEADING_AÑO = \"AÑO\"\n",
    "    HEADING_DURACION = \"DURACIÓN\"\n",
    "    HEADING_PAIS = \"PAÍS\"\n",
    "    HEADING_DIRECCION = \"DIRECCIÓN\"\n",
    "    HEADING_GUION = \"GUIÓN\"\n",
    "    HEADING_MUSICA = \"MÚSICA\"\n",
    "    HEADING_FOTOGRAFIA = \"FOTOGRAFÍA\"\n",
    "    HEADING_REPARTO = \"REPARTO\"\n",
    "    HEADING_PRODUCTORA = \"PRODUCTORA\"\n",
    "    HEADING_GENERO = \"GÉNERO\"\n",
    "    HEADING_GRUPOS = \"GRUPOS\"\n",
    "    HEADING_SINOPSIS = \"SINOPSIS\"\n",
    "    HEADING_PUNTUACION = \"PUNTUACIÓN\"\n",
    "    HEADING_VOTOS = \"VOTOS\"\n",
    "    HEADING_PREMIOS = \"PREMIOS\"\n",
    "    HEADING_CRITICAS = \"CRÍTICAS\"\n",
    "\n",
    "    def __init__(self, document):\n",
    "        lines = [line.strip() for line in open(\n",
    "            document, encoding=\"utf-8\").readlines()]\n",
    "        self.document = lines\n",
    "\n",
    "    def preprocess(self):\n",
    "        info = {}\n",
    "        simple = [HEADING_TITULO, HEADING_AÑO, HEADING_DURACION, HEADING_PAIS, \"DIRECCIÓN\", HEADING_GUION, HEADING_MUSICA,\n",
    "                  HEADING_FOTOGRAFIA, HEADING_REPARTO, HEADING_PRODUCTORA, HEADING_GENERO, HEADING_GRUPOS, HEADING_SINOPSIS]\n",
    "        for heading in simple:\n",
    "            info = dict(\n",
    "                info, **Data(heading).get_value(self.document).get_dic())\n",
    "        info = dict(info, **ValoracionData([HEADING_PUNTUACION,\n",
    "                                            HEADING_VOTOS]).get_value(self.document).get_dic())\n",
    "        info = dict(\n",
    "            info, **PremiosData([HEADING_PREMIOS, HEADING_CRITICAS]).get_value(self.document).get_dic())\n",
    "        info = dict(\n",
    "            info, **CriticasData(HEADING_CRITICAS).get_value(self.document).get_dic())\n",
    "        return info"
   ]
  },
  {
   "cell_type": "code",
   "execution_count": 155,
   "metadata": {
    "ExecuteTime": {
     "end_time": "2020-12-30T23:38:17.822991Z",
     "start_time": "2020-12-30T23:38:17.815987Z"
    }
   },
   "outputs": [
    {
     "data": {
      "text/plain": [
       "{'título original': 'Psycho',\n",
       " 'año': '1960',\n",
       " 'duración': '109 min.',\n",
       " 'país': 'Estados Unidos Estados Unidos',\n",
       " 'dirección': 'Alfred Hitchcock',\n",
       " 'guión': 'Joseph Stefano (Novela: Robert Bloch)',\n",
       " 'música': 'Bernard Herrmann',\n",
       " 'fotografía': 'John L. Russell (B&W)',\n",
       " 'reparto': 'Anthony Perkins, Janet Leigh, John Gavin, Vera Miles, John McIntire, Martin Balsam, Simon Oakland, Patricia Hitchcock',\n",
       " 'productora': 'Paramount Pictures',\n",
       " 'género': 'Terror. Intriga. Thriller. Película de culto. Asesinos en serie. Slasher. Thriller psicológico',\n",
       " 'grupos': 'Psicosis',\n",
       " 'sinopsis': 'Marion Crane, una joven secretaria, tras cometer el robo de un dinero en su empresa, huye de la ciudad y, después de conducir durante horas, decide descansar en un pequeño y apartado motel de carretera regentado por un tímido joven llamado Norman Bates, que vive en la casa de al lado con su madre. (FILMAFFINITY)',\n",
       " 'valoracion': {'puntuación': '8,4', 'votos': '105.623'},\n",
       " 'premios': [{'año': '1960',\n",
       "   'institucion': '4 nominaciones al Oscar',\n",
       "   'categorias': ' director, actriz sec. (Leigh), fotografía y dir. artística (B&N)'},\n",
       "  {'año': '1960',\n",
       "   'institucion': 'Globos de Oro',\n",
       "   'categorias': ' Mejor actriz secundaria (Janet Leigh)'},\n",
       "  {'año': '1960',\n",
       "   'institucion': 'Sindicato de Directores (DGA)',\n",
       "   'categorias': ' Nominada a Mejor director'},\n",
       "  {'año': '1960',\n",
       "   'institucion': 'Sindicato de Guionistas (WGA)',\n",
       "   'categorias': ' Nominada a Mejor guión drama'}],\n",
       " 'críticas': [{'critica': 'Una obra maestra del entretenimiento y el horror de la que Perkins nunca pudo huir',\n",
       "   'autor': 'Javier Ocaña: Cinemanía'},\n",
       "  {'critica': 'Una de las grandes obras maestras del género. Tensión, terror e intriga en un filme de imprescindible revisión',\n",
       "   'autor': 'Fernando Morales: Diario El País'},\n",
       "  {'critica': \"Lo que hace inmortal a 'Psycho', cuando muchas otras películas las hemos casi olvidado tras salir del cine, es que conecta directamente con nuestros miedos (…) Puntuación: 4 (sobre 4)\",\n",
       "   'autor': 'Roger Ebert: rogerebert.com'},\n",
       "  {'critica': 'Marca un antes y un después en el género.(...) ésta es de las películas que se dejan ver más de una, dos y hasta tres veces, o más.',\n",
       "   'autor': 'Lucero Solórzano: Diario Excélsior'},\n",
       "  {'critica': 'Un buen e inusual entretenimiento, con la huella imborrable de Hitchcock.',\n",
       "   'autor': 'Variety'},\n",
       "  {'critica': 'Sentimos que sus explicaciones parecen bromas de un hombre conocido por recurrir a esas tácticas en películas anteriores. La consecuencia es que su desenlace fracasa',\n",
       "   'autor': 'Bosley Crowther: The New York Times'},\n",
       "  {'critica': \"Con 'Psicosis', Alfred Hitchcock no sólo creó una implacable obra maestra y engendró un nuevo género cinematográfico – el slasher. También dio uno de los golpes más audaces en la historia del cine (…) Puntuación: 5 (sobre 5)\",\n",
       "   'autor': 'Mark Monahan: Telegraph'},\n",
       "  {'critica': \"'Psycho' no es una película larga, pero lo parece. Quizás porque el director se entretiene con efectos técnicos; quizás porque es difícil, si no imposible, que nos interese alguno de los personajes.\",\n",
       "   'autor': 'CA Lejeune: The Guardian'},\n",
       "  {'critica': 'El suspense de su película crece lentamente hasta un punto casi insoportable de excitación.',\n",
       "   'autor': 'New York Daily News'},\n",
       "  {'critica': 'Su poder no es sólo el de una máquina de terror calibrada por un showman, sino el de una fuga sombría acerca de las criaturas atrapadas del siglo XX que habitan este mundo (…) Puntuación: 4 (sobre 4)',\n",
       "   'autor': 'Bill Weber: Slant'},\n",
       "  {'critica': 'Un clásico eterno. Excelentes actuaciones y la infame escena de la ducha hacen de ella la pesadilla perfecta (…) Puntuación: 5 (sobre 5)',\n",
       "   'autor': 'David Parkinson: Empire'},\n",
       "  {'critica': \"'Psycho' no sólo reubicó el terror, de Transylvania al corazón de la familia americana, sino que fue increíblemente irónica de principio a fin.\",\n",
       "   'autor': 'J. Hoberman: Village Voice'},\n",
       "  {'critica': 'Un auténtico clásico de clásicos.',\n",
       "   'autor': 'Diego Brodersen: Diario Página 12'}]}"
      ]
     },
     "execution_count": 155,
     "metadata": {},
     "output_type": "execute_result"
    }
   ],
   "source": [
    "info = PreprocessorDocument(\"../documents/psycho.txt\").preprocess()\n",
    "info"
   ]
  },
  {
   "cell_type": "code",
   "execution_count": 151,
   "metadata": {
    "ExecuteTime": {
     "end_time": "2020-12-30T23:35:55.884773Z",
     "start_time": "2020-12-30T23:35:55.880772Z"
    }
   },
   "outputs": [
    {
     "data": {
      "text/plain": [
       "<__main__.Data at 0x2104980aa88>"
      ]
     },
     "execution_count": 151,
     "metadata": {},
     "output_type": "execute_result"
    }
   ],
   "source": [
    "data = Data(HEADING_TITULO)\n",
    "data"
   ]
  },
  {
   "cell_type": "code",
   "execution_count": 106,
   "metadata": {
    "ExecuteTime": {
     "end_time": "2020-12-30T23:15:05.844383Z",
     "start_time": "2020-12-30T23:15:05.840380Z"
    }
   },
   "outputs": [
    {
     "data": {
      "text/plain": [
       "{'título original': 'The Godfather'}"
      ]
     },
     "execution_count": 106,
     "metadata": {},
     "output_type": "execute_result"
    }
   ],
   "source": [
    "data.get_value(padrino).get_dic()"
   ]
  },
  {
   "cell_type": "code",
   "execution_count": 107,
   "metadata": {
    "ExecuteTime": {
     "end_time": "2020-12-30T23:15:06.044230Z",
     "start_time": "2020-12-30T23:15:06.040229Z"
    }
   },
   "outputs": [
    {
     "data": {
      "text/plain": [
       "{'título original': 'The Godfather'}"
      ]
     },
     "execution_count": 107,
     "metadata": {},
     "output_type": "execute_result"
    }
   ],
   "source": [
    "data.get_dic()"
   ]
  },
  {
   "cell_type": "code",
   "execution_count": 108,
   "metadata": {
    "ExecuteTime": {
     "end_time": "2020-12-30T23:15:06.234031Z",
     "start_time": "2020-12-30T23:15:06.231029Z"
    }
   },
   "outputs": [],
   "source": [
    "valoracion = ValoracionData([HEADING_PUNTUACION, HEADING_VOTOS])"
   ]
  },
  {
   "cell_type": "code",
   "execution_count": 109,
   "metadata": {
    "ExecuteTime": {
     "end_time": "2020-12-30T23:15:06.427044Z",
     "start_time": "2020-12-30T23:15:06.424047Z"
    }
   },
   "outputs": [
    {
     "data": {
      "text/plain": [
       "{'valoracion': {'puntuación': '9,0', 'votos': '170.129'}}"
      ]
     },
     "execution_count": 109,
     "metadata": {},
     "output_type": "execute_result"
    }
   ],
   "source": [
    "valoracion.get_value(padrino).get_dic()"
   ]
  },
  {
   "cell_type": "code",
   "execution_count": 110,
   "metadata": {
    "ExecuteTime": {
     "end_time": "2020-12-30T23:15:06.617722Z",
     "start_time": "2020-12-30T23:15:06.615721Z"
    }
   },
   "outputs": [],
   "source": [
    "a = {}"
   ]
  },
  {
   "cell_type": "code",
   "execution_count": 111,
   "metadata": {
    "ExecuteTime": {
     "end_time": "2020-12-30T23:15:06.801969Z",
     "start_time": "2020-12-30T23:15:06.799968Z"
    }
   },
   "outputs": [],
   "source": [
    "b = {\"a\": 2}"
   ]
  },
  {
   "cell_type": "code",
   "execution_count": 112,
   "metadata": {
    "ExecuteTime": {
     "end_time": "2020-12-30T23:15:07.004023Z",
     "start_time": "2020-12-30T23:15:07.000022Z"
    }
   },
   "outputs": [
    {
     "data": {
      "text/plain": [
       "{'a': 2}"
      ]
     },
     "execution_count": 112,
     "metadata": {},
     "output_type": "execute_result"
    }
   ],
   "source": [
    "a = dict(a,**b)\n",
    "a"
   ]
  },
  {
   "cell_type": "code",
   "execution_count": 113,
   "metadata": {
    "ExecuteTime": {
     "end_time": "2020-12-30T23:15:07.188519Z",
     "start_time": "2020-12-30T23:15:07.183521Z"
    }
   },
   "outputs": [
    {
     "data": {
      "text/plain": [
       "{'premios': [{'año': '1972',\n",
       "   'institucion': '3 Oscars',\n",
       "   'categorias': ' Mejor película, Actor (Marlon Brando), Guión adaptado. 11[10*] nom.'},\n",
       "  {'año': '1972',\n",
       "   'institucion': '5 Globos de Oro',\n",
       "   'categorias': ' Película (Drama), Director, Actor (Brando), Guión y BSO'},\n",
       "  {'año': '1972',\n",
       "   'institucion': 'Premios BAFTA',\n",
       "   'categorias': ' Mejor música. 5 nominaciones, incluyendo Mejor actor (Brando)'},\n",
       "  {'año': '1972',\n",
       "   'institucion': 'Círculo de Críticos de Nueva York',\n",
       "   'categorias': ' Mejor actor secundario (Duvall). 4 nominaciones'},\n",
       "  {'año': '1972',\n",
       "   'institucion': 'National Board of Review',\n",
       "   'categorias': ' Mejor actor sec. (Pacino) y Mejores 10 films del año'},\n",
       "  {'año': '1972',\n",
       "   'institucion': 'Sindicato de Directores (DGA)',\n",
       "   'categorias': ' Mejor director'},\n",
       "  {'año': '1972',\n",
       "   'institucion': 'Sindicato de Guionistas (WGA)',\n",
       "   'categorias': ' Mejor guión adaptado drama'},\n",
       "  {'año': '1972',\n",
       "   'institucion': 'Premios David di Donatello',\n",
       "   'categorias': ' Mejor film extranjero y Premio Especial (Al Pacino)'}]}"
      ]
     },
     "execution_count": 113,
     "metadata": {},
     "output_type": "execute_result"
    }
   ],
   "source": [
    "PremiosData([HEADING_PREMIOS, HEADING_CRITICAS]).get_value(padrino).get_dic()"
   ]
  },
  {
   "cell_type": "code",
   "execution_count": 114,
   "metadata": {
    "ExecuteTime": {
     "end_time": "2020-12-30T23:15:07.388320Z",
     "start_time": "2020-12-30T23:15:07.384318Z"
    }
   },
   "outputs": [
    {
     "data": {
      "text/plain": [
       "True"
      ]
     },
     "execution_count": 114,
     "metadata": {},
     "output_type": "execute_result"
    }
   ],
   "source": [
    "critica = '- \"Una gran película americana, llena de imágenes increíbles y momentos perdurables.\" Desson Thomson: The Washington Post'\n",
    "\"\\\"\" in critica"
   ]
  },
  {
   "cell_type": "code",
   "execution_count": 115,
   "metadata": {
    "ExecuteTime": {
     "end_time": "2020-12-30T23:15:07.602930Z",
     "start_time": "2020-12-30T23:15:07.599930Z"
    }
   },
   "outputs": [],
   "source": [
    "import re"
   ]
  },
  {
   "cell_type": "code",
   "execution_count": 116,
   "metadata": {
    "ExecuteTime": {
     "end_time": "2020-12-30T23:15:07.971963Z",
     "start_time": "2020-12-30T23:15:07.967965Z"
    }
   },
   "outputs": [],
   "source": [
    "critica = re.search(\"(\\\".+\\\") (.+)\", critica)"
   ]
  },
  {
   "cell_type": "code",
   "execution_count": 117,
   "metadata": {
    "ExecuteTime": {
     "end_time": "2020-12-30T23:15:08.555236Z",
     "start_time": "2020-12-30T23:15:08.552236Z"
    }
   },
   "outputs": [
    {
     "data": {
      "text/plain": [
       "<re.Match object; span=(2, 121), match='\"Una gran película americana, llena de imágenes i>"
      ]
     },
     "execution_count": 117,
     "metadata": {},
     "output_type": "execute_result"
    }
   ],
   "source": [
    "critica"
   ]
  },
  {
   "cell_type": "code",
   "execution_count": 118,
   "metadata": {
    "ExecuteTime": {
     "end_time": "2020-12-30T23:15:08.884449Z",
     "start_time": "2020-12-30T23:15:08.880450Z"
    }
   },
   "outputs": [
    {
     "data": {
      "text/plain": [
       "<function Match.group>"
      ]
     },
     "execution_count": 118,
     "metadata": {},
     "output_type": "execute_result"
    }
   ],
   "source": [
    "z.group"
   ]
  },
  {
   "cell_type": "code",
   "execution_count": 121,
   "metadata": {
    "ExecuteTime": {
     "end_time": "2020-12-30T23:15:21.212938Z",
     "start_time": "2020-12-30T23:15:21.209928Z"
    }
   },
   "outputs": [],
   "source": [
    "a = CriticasData(HEADING_CRITICAS).get_value(padrino).get_dic()"
   ]
  },
  {
   "cell_type": "code",
   "execution_count": 122,
   "metadata": {
    "ExecuteTime": {
     "end_time": "2020-12-30T23:15:21.934657Z",
     "start_time": "2020-12-30T23:15:21.929655Z"
    }
   },
   "outputs": [
    {
     "data": {
      "text/plain": [
       "{'críticas': [{'critica': \"'El padrino' son palabras mayores. Las dos primeras partes están entre las 10 mejores películas de la historia del cine.\",\n",
       "   'autor': 'Carlos Boyero: Diario El Mundo'},\n",
       "  {'critica': 'Coppola inventa una nueva mirada para el cine y amplía los horizontes de una industria que pedía a gritos savia nueva.',\n",
       "   'autor': 'Luis Martínez: Diario El País'},\n",
       "  {'critica': 'I believe in America... Así comienza este fascinante compendio de cine de Coppola. La compleja historia de una familia mafiosa liderada por un implacable padre de familia y hombre de honor (inmenso Marlon Brando) y cuyo poder hereda su hijo más pacífico (asombroso un primerizo Al Pacino de mirada gélida) es, ante todo, un ejercicio narrativo apabullante, de insuperable nivel. La brillante disección de todos los personajes, el ritmo magistral -que alterna largas secuencias familiares con creíbles escenas de acción- y una ambientación perfecta consiguen un film que entró violentamente entre los mejores clásicos de todos los tiempos, para alzarse con el título de obra cumbre del cine moderno.',\n",
       "   'autor': 'Pablo Kurt: FilmAffinity'},\n",
       "  {'critica': \"Inicialmente la Academia anunció, en febrero de 1973, que 'The Godfather' tenía 11 nominaciones, más que cualquier otra película de ese año. Pero la cifra se redujo finalmente a 10 nominaciones (empatando con 'Cabaret' como la película con más nominaciones del año) tras una nueva votación por parte de los responsables de la Academia de nominar a mejor música, con motivo de una controversia sobre si la banda sonora de Nino Rota de 'The Godfather' era elegible para la nominación que recibió. Así que la nominación fue retirada y reemplazada por una nominación para Sleuth.\",\n",
       "   'autor': 'FilmAffinity'},\n",
       "  {'critica': \"La secuencia de la boda es un momento cinematográfico virtuoso: Coppola lleva a su gran reparto con tanta destreza que nos hace entrar completamente en el mundo de 'El Padrino' (...) Puntuación: 4 (sobre 4)\",\n",
       "   'autor': 'Roger Ebert: rogerebert.com'},\n",
       "  {'critica': 'Brando hizo de Don Vito algo que rara vez vemos en las películas: un villano-héroe tragicómico.',\n",
       "   'autor': 'Michael Wilmington: Chicago Tribune'},\n",
       "  {'critica': 'Una de las crónicas más brutales y conmovedoras de la vida americana que se haya diseñado nunca dentro de los límites del entretenimiento popular.',\n",
       "   'autor': 'Vincent Canby: The New York Times'},\n",
       "  {'critica': 'Tiene una excelente producción, a ratos es emocionante, y un reparto bien escogido. Pero es también demasiado larga (...) y ocasionalmente confusa. Aunque nunca llega a ser aburrida, no fascina tanto como para ser un drama superior.',\n",
       "   'autor': 'A.D. Murphy: Variety'},\n",
       "  {'critica': 'Una gran película americana, llena de imágenes increíbles y momentos perdurables.',\n",
       "   'autor': 'Desson Thomson: The Washington Post'},\n",
       "  {'critica': 'Una obra de arte que perdura el paso de los años. Puntuación: ★★★★★ (sobre 5)',\n",
       "   'autor': 'César Albarrán Torres: Cine Premiere'}]}"
      ]
     },
     "execution_count": 122,
     "metadata": {},
     "output_type": "execute_result"
    }
   ],
   "source": [
    "a"
   ]
  },
  {
   "cell_type": "code",
   "execution_count": null,
   "metadata": {},
   "outputs": [],
   "source": []
  },
  {
   "cell_type": "code",
   "execution_count": null,
   "metadata": {},
   "outputs": [],
   "source": []
  }
 ],
 "metadata": {
  "kernelspec": {
   "display_name": "Python 3",
   "language": "python",
   "name": "python3"
  },
  "language_info": {
   "codemirror_mode": {
    "name": "ipython",
    "version": 3
   },
   "file_extension": ".py",
   "mimetype": "text/x-python",
   "name": "python",
   "nbconvert_exporter": "python",
   "pygments_lexer": "ipython3",
   "version": "3.7.6"
  },
  "latex_envs": {
   "LaTeX_envs_menu_present": true,
   "autoclose": true,
   "autocomplete": true,
   "bibliofile": "biblio.bib",
   "cite_by": "apalike",
   "current_citInitial": 1,
   "eqLabelWithNumbers": true,
   "eqNumInitial": 1,
   "hotkeys": {
    "equation": "Ctrl-E",
    "itemize": "Ctrl-I"
   },
   "labels_anchors": false,
   "latex_user_defs": false,
   "report_style_numbering": false,
   "user_envs_cfg": false
  },
  "toc": {
   "base_numbering": 1,
   "nav_menu": {},
   "number_sections": true,
   "sideBar": true,
   "skip_h1_title": false,
   "title_cell": "Table of Contents",
   "title_sidebar": "Contents",
   "toc_cell": false,
   "toc_position": {},
   "toc_section_display": true,
   "toc_window_display": false
  },
  "varInspector": {
   "cols": {
    "lenName": 16,
    "lenType": 16,
    "lenVar": 40
   },
   "kernels_config": {
    "python": {
     "delete_cmd_postfix": "",
     "delete_cmd_prefix": "del ",
     "library": "var_list.py",
     "varRefreshCmd": "print(var_dic_list())"
    },
    "r": {
     "delete_cmd_postfix": ") ",
     "delete_cmd_prefix": "rm(",
     "library": "var_list.r",
     "varRefreshCmd": "cat(var_dic_list()) "
    }
   },
   "types_to_exclude": [
    "module",
    "function",
    "builtin_function_or_method",
    "instance",
    "_Feature"
   ],
   "window_display": false
  }
 },
 "nbformat": 4,
 "nbformat_minor": 4
}
